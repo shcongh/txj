{
 "cells": [
  {
   "cell_type": "code",
   "execution_count": 1,
   "id": "a0e387d4",
   "metadata": {},
   "outputs": [],
   "source": [
    "import numpy as np\n",
    "import pandas as pd"
   ]
  },
  {
   "cell_type": "code",
   "execution_count": 2,
   "id": "6ffffc63",
   "metadata": {},
   "outputs": [],
   "source": [
    "name_dicts = []\n",
    "\n",
    "def build_dict():\n",
    "    t1_names = ['周', '魯', '齊', '衛', '宋', '鄭', '陳', '蔡', '楚', '吳', '晉', '越']\n",
    "    t2_names = ['周', '魯', '齊', '宋', '晉', '魏', '趙', '韓', '鄭', '楚', '越', '秦']\n",
    "    t3_names = ['周', '秦', '魏', '韓', '趙', '楚', '越', '齊', '燕', '宋', '魯', '滕']\n",
    "    t4_names = ['周', '秦', '魏', '韓', '趙', '楚', '齊', '宋', '燕']\n",
    "    t5_names = ['周', '秦', '魏', '韓', '趙', '楚', '齊', '宋', '燕']\n",
    "\n",
    "    names = [t1_names, t2_names, t3_names, t4_names, t5_names]\n",
    "\n",
    "    for n in names:\n",
    "        # state number starts from 1, not 0\n",
    "        name_dicts.append(dict(zip(range(1,len(n)+1), n)))\n",
    "\n",
    "build_dict()\n",
    "\n",
    "for d in name_dicts:\n",
    "    # d.values() returns an iterator, which will cause 'RuntimeError: dictionary changed size during iteration'\n",
    "    # error when setting default values in the next step. Change it into a static list to avoid the problem.\n",
    "    values = list(d.values())\n",
    "    \n",
    "    # Set up default values for non-existing keys.\n",
    "    # Here we just use the key it self as output if the key is in the tx_names list.\n",
    "    for v in values:\n",
    "        d.setdefault(v, v)"
   ]
  },
  {
   "cell_type": "code",
   "execution_count": 3,
   "id": "b5eebca7",
   "metadata": {},
   "outputs": [],
   "source": [
    "# File names for raw and processed data\n",
    "csv_fnames = ['先秦諸子繋年-通表第一.csv',\n",
    "              '先秦諸子繋年-通表第二.csv',\n",
    "              '先秦諸子繋年-通表第三.csv',\n",
    "              '先秦諸子繋年-通表第四-上.csv',\n",
    "              '先秦諸子繋年-通表第四-下.csv']"
   ]
  },
  {
   "cell_type": "code",
   "execution_count": 4,
   "id": "5654966f",
   "metadata": {},
   "outputs": [],
   "source": [
    "src_data_path = '../../db/csv_raw/'\n",
    "\n",
    "def to_int(value):\n",
    "    if type(value)==str:\n",
    "        if value in [str(x) for x in list(range(20))]:\n",
    "            return int(value, 10)\n",
    "        elif value=='':\n",
    "            return np.NaN\n",
    "        else:\n",
    "            return value\n",
    "    else:\n",
    "        return value\n",
    "    \n",
    "\n",
    "# Convert dictionary for converting digit strings to integers.\n",
    "convert = dict(zip(['year', 'state', 'name', 'event', 'notes'], [to_int, None, None, None, None]))\n",
    "\n",
    "dfs = []\n",
    "\n",
    "for fname in csv_fnames:\n",
    "    dfs.append(pd.read_csv(src_data_path + fname, header=0, converters=convert))"
   ]
  },
  {
   "cell_type": "code",
   "execution_count": null,
   "id": "768a614e",
   "metadata": {},
   "outputs": [],
   "source": [
    "for i, df in enumerate(dfs): \n",
    "    df.loc[:, 'year'].fillna(method='ffill', inplace=True)\n",
    "    df.loc[:, 'state'].fillna(method='ffill', inplace=True)\n",
    "    df.loc[:, 'name'].fillna(method='ffill', inplace=True)     \n",
    "    \n",
    "    df['state'] = df.loc[:, 'state'].map(name_dicts[i])"
   ]
  },
  {
   "cell_type": "code",
   "execution_count": null,
   "id": "ba21d344",
   "metadata": {},
   "outputs": [],
   "source": [
    "# Check if there's any unresolved 'year', 'state', or 'name'\n",
    "nans = []\n",
    "for df in dfs:\n",
    "    nans.append(df.iloc[:, 0:2].isnull().sum().sum())\n",
    "\n",
    "# nans should be 0 for all 5 tables.\n",
    "nans"
   ]
  },
  {
   "cell_type": "code",
   "execution_count": null,
   "id": "8a8940f4",
   "metadata": {},
   "outputs": [],
   "source": [
    "# Example for selecting all cells that contains '生' in dfs[0].event column.\n",
    "\n",
    "# In pandas, selecting all cells that contains '生' from a column will produce a Boolean column except that\n",
    "# all the NaN cell originally in the column will be NaN in the result. I.e., if a cell was NaN, although it's\n",
    "# not '生', the test for '生' will not produce False, but NaN.\n",
    "\n",
    "# Such column, which contains Boolean and NaN values, cannot be used to select cells.\n",
    "\n",
    "# To fix this, use .notnull() to select the original column which turns NaN cells into Flase. Selecting\n",
    "# cells that contains '生' will produce False for the original NaN cells.\n",
    "dfs0event = dfs[0].event[dfs[0].event.notnull()]\n",
    "dfs0event\n",
    "dfs0event[dfs0event.str.contains('生')]"
   ]
  },
  {
   "cell_type": "code",
   "execution_count": 7,
   "id": "71b6f728",
   "metadata": {},
   "outputs": [],
   "source": [
    "# Destination folder for processed data\n",
    "dest_data_path = '../../db/csv/'"
   ]
  },
  {
   "cell_type": "code",
   "execution_count": 8,
   "id": "c0664a9d",
   "metadata": {},
   "outputs": [],
   "source": [
    "# Save the processed 通表第一, 二, 三\n",
    "for i, df in enumerate(dfs):\n",
    "    if i<=2:\n",
    "        df.to_csv(dest_data_path + csv_fnames[i], index=False)"
   ]
  },
  {
   "cell_type": "code",
   "execution_count": 9,
   "id": "8b0af1e6",
   "metadata": {},
   "outputs": [],
   "source": [
    "# Combine processed 通表第四-上, 下, and save to 通表第四\n",
    "df4 = pd.concat([dfs[3], dfs[4]])\n",
    "df4.to_csv(dest_data_path + '先秦諸子繋年-通表第四.csv', index=False)"
   ]
  },
  {
   "cell_type": "code",
   "execution_count": 10,
   "id": "5ce1c12f",
   "metadata": {},
   "outputs": [],
   "source": [
    "# Combine all 通表 and save to tongbiao.csv (通表)\n",
    "df_combined = pd.concat(dfs)\n",
    "df_combined.to_csv(dest_data_path + 'tongbiao.csv', index=False)"
   ]
  }
 ],
 "metadata": {
  "kernelspec": {
   "display_name": "Python 3 (ipykernel)",
   "language": "python",
   "name": "python3"
  },
  "language_info": {
   "codemirror_mode": {
    "name": "ipython",
    "version": 3
   },
   "file_extension": ".py",
   "mimetype": "text/x-python",
   "name": "python",
   "nbconvert_exporter": "python",
   "pygments_lexer": "ipython3",
   "version": "3.11.5"
  }
 },
 "nbformat": 4,
 "nbformat_minor": 5
}
