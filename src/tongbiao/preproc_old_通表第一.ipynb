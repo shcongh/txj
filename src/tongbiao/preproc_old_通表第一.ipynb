{
 "cells": [
  {
   "cell_type": "code",
   "execution_count": null,
   "id": "e754c8b2",
   "metadata": {},
   "outputs": [],
   "source": [
    "import numpy as np\n",
    "import pandas as pd"
   ]
  },
  {
   "cell_type": "code",
   "execution_count": null,
   "id": "a12ddc8c",
   "metadata": {},
   "outputs": [],
   "source": [
    "data_path = '../../db/csv_raw/'\n",
    "fname = '先秦諸子繋年-通表第一.csv'\n",
    "\n",
    "# Read old '通表第一' downloaded from the initial version of Google sheet\n",
    "df = pd.read_csv(data_path + 'old_' + fname, header=0)\n",
    "df.loc[:, 'year'] = -df.loc[:, 'year'] \n",
    "df"
   ]
  },
  {
   "cell_type": "code",
   "execution_count": null,
   "id": "cc3712ee",
   "metadata": {},
   "outputs": [],
   "source": [
    "df.drop(['year1'], axis=1, inplace=True)"
   ]
  },
  {
   "cell_type": "code",
   "execution_count": null,
   "id": "16d2bc79",
   "metadata": {},
   "outputs": [],
   "source": [
    "# Save processed data to a new file named '先秦諸子繋年-通表第一.csv'\n",
    "# No need to save as the raw data '先秦諸子繋年-通表第一.csv' has been updated\n",
    "# df.to_csv(data_path + fname, index=False)"
   ]
  }
 ],
 "metadata": {
  "kernelspec": {
   "display_name": "Python 3 (ipykernel)",
   "language": "python",
   "name": "python3"
  },
  "language_info": {
   "codemirror_mode": {
    "name": "ipython",
    "version": 3
   },
   "file_extension": ".py",
   "mimetype": "text/x-python",
   "name": "python",
   "nbconvert_exporter": "python",
   "pygments_lexer": "ipython3",
   "version": "3.11.5"
  }
 },
 "nbformat": 4,
 "nbformat_minor": 5
}
