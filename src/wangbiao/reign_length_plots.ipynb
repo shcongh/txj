{
 "cells": [
  {
   "cell_type": "code",
   "execution_count": null,
   "id": "29b9182f",
   "metadata": {},
   "outputs": [],
   "source": [
    "import numpy as np\n",
    "import pandas as pd\n",
    "import matplotlib.pyplot as plt"
   ]
  },
  {
   "cell_type": "code",
   "execution_count": null,
   "id": "d0f99220",
   "metadata": {},
   "outputs": [],
   "source": [
    "# set up Chinese fonts\n",
    "plt.rcParams['font.sans-serif'] = ['SimHei'] # Or any other Chinese characters\n",
    "plt.rcParams['axes.unicode_minus'] = False"
   ]
  },
  {
   "cell_type": "code",
   "execution_count": null,
   "id": "6dd612a2",
   "metadata": {},
   "outputs": [],
   "source": [
    "def to_int(value):\n",
    "    if value:\n",
    "        return int(value, 10)\n",
    "    else:\n",
    "        return 0\n",
    "\n",
    "# Convert dictionary for converting digit strings to integers.\n",
    "convert = dict(zip(['start', 'state', 'lord', 'span', 'notes'], [to_int, None, None, to_int, None]))\n",
    "\n",
    "# Read table and convert digit strings to int.\n",
    "df = pd.read_csv(\"../../db/csv/wangbiao.csv\", header=0, converters=convert)\n",
    "# df.index\n",
    "# df.columns\n",
    "# df.head()\n",
    "# df.tail()\n",
    "df.to_numpy()"
   ]
  },
  {
   "cell_type": "code",
   "execution_count": null,
   "id": "0a00997c",
   "metadata": {},
   "outputs": [],
   "source": [
    "# Function that plots barh chart base on df_x\n",
    "def plot_barh(df_x, lb, rb, title):\n",
    "    # Create a figure and axis\n",
    "    fig, ax = plt.subplots()\n",
    "\n",
    "    # Set fig size\n",
    "    fig.set_figwidth(35)\n",
    "    fig.set_figheight(25)\n",
    "    plt.rc('font', size=18)          # controls default text sizes\n",
    "\n",
    "    # Plot colored bars for each row\n",
    "    for index, row in df_x.iterrows():\n",
    "        birth_year = row['start']\n",
    "        lifespan = df_x.loc[index, 'span']\n",
    "        \n",
    "        if title == 'state':\n",
    "            y = row['lord']\n",
    "        else:\n",
    "            y = row['state']\n",
    "        ax.barh(y, lifespan, left=birth_year, color='skyblue')\n",
    "        state = row['state']\n",
    "        lord = row['lord']\n",
    "        ax.text(birth_year + lifespan / 2, y, f'{state} {lord} ({lifespan})', ha='center', va='center', color='black')\n",
    "\n",
    "    # Set x-axis range from lb to rb\n",
    "    ax.set_xlim(lb, rb)\n",
    "\n",
    "    ax.set_xlabel('start')\n",
    "    \n",
    "    if title == 'state':\n",
    "        ax.set_title(state)\n",
    "    else:\n",
    "        ax.set_title(title)\n",
    "\n",
    "    # Show the plot\n",
    "    plt.show()"
   ]
  },
  {
   "cell_type": "code",
   "execution_count": null,
   "id": "61de10b7",
   "metadata": {},
   "outputs": [],
   "source": [
    "gb_state = df.groupby('state')\n",
    "\n",
    "for k, v in gb_state:\n",
    "    print(\"k: \", k)\n",
    "    print(\"v: \", v)\n",
    "    v = v[v.span!=0]\n",
    "    v = v[v[\"span\"]!=0]\n",
    "    print(\"new v: \", v)\n",
    "    \n",
    "    first = v.iloc[0]\n",
    "    last = v.iloc[-1]\n",
    "    lb = first.start - 10\n",
    "    rb = last['start'] + last['span'] + 10\n",
    "    \n",
    "    # Reverse the table so the oldest oldest lord is at the top of y-axis. \n",
    "    # As such the old to new bars will be plotted from upper left to lower right.\n",
    "    v = v[::-1]\n",
    "    plot_barh(v, lb, rb, 'state')"
   ]
  },
  {
   "cell_type": "code",
   "execution_count": null,
   "id": "607db059",
   "metadata": {},
   "outputs": [],
   "source": [
    "# Plot all between -550 to 500\n",
    "df['end'] = df['start'] + df['span']\n",
    "df"
   ]
  },
  {
   "cell_type": "code",
   "execution_count": null,
   "id": "4e181976",
   "metadata": {},
   "outputs": [],
   "source": [
    "df[df.end>lb]"
   ]
  },
  {
   "cell_type": "code",
   "execution_count": null,
   "id": "6273051b",
   "metadata": {},
   "outputs": [],
   "source": [
    "def plot_range(df, lb, ub):\n",
    "    dfa = df[df.end<ub]\n",
    "    dfb = dfa[dfa.end>lb]\n",
    "    dfb = dfb[::-1]\n",
    "    plot_barh(dfb, lb-20, ub+10, f'From {lb} to {ub}')"
   ]
  },
  {
   "cell_type": "code",
   "execution_count": null,
   "id": "da9bd47d",
   "metadata": {},
   "outputs": [],
   "source": [
    "lb = -450\n",
    "ub = -400\n",
    "\n",
    "lb = -550\n",
    "ub = -400\n",
    "\n",
    "plot_range(df, lb, ub)"
   ]
  },
  {
   "cell_type": "code",
   "execution_count": null,
   "id": "6b43741c",
   "metadata": {},
   "outputs": [],
   "source": [
    "# Plot lord ruling spans\n",
    "plt.rc('font', size=9)\n",
    "fig, ax = plt.subplots()\n",
    "df.plot.scatter(x=\"start\", y=\"span\", alpha=0.35, ax=ax)\n",
    "ax.set(xlabel=\"Year BC\", ylabel=\"Lord ruling span\")"
   ]
  }
 ],
 "metadata": {
  "kernelspec": {
   "display_name": "Python 3 (ipykernel)",
   "language": "python",
   "name": "python3"
  },
  "language_info": {
   "codemirror_mode": {
    "name": "ipython",
    "version": 3
   },
   "file_extension": ".py",
   "mimetype": "text/x-python",
   "name": "python",
   "nbconvert_exporter": "python",
   "pygments_lexer": "ipython3",
   "version": "3.11.5"
  }
 },
 "nbformat": 4,
 "nbformat_minor": 5
}
