{
 "cells": [
  {
   "cell_type": "code",
   "execution_count": null,
   "id": "29b9182f",
   "metadata": {},
   "outputs": [],
   "source": [
    "import numpy as np\n",
    "import pandas as pd"
   ]
  },
  {
   "cell_type": "code",
   "execution_count": null,
   "id": "6dd612a2",
   "metadata": {},
   "outputs": [],
   "source": [
    "def to_int(value):\n",
    "    if value:\n",
    "        return int(value, 10)\n",
    "    else:\n",
    "        return 0\n",
    "\n",
    "# Convert dictionary for converting digit strings to integers.\n",
    "convert = dict(zip(['start', 'state', 'lord', 'span', 'notes'], [to_int, None, None, to_int, None]))\n",
    "\n",
    "# Read table and convert digit strings to int.\n",
    "df = pd.read_csv(\"../../db/csv/wangbiao.csv\", header=0, converters=convert)"
   ]
  },
  {
   "cell_type": "code",
   "execution_count": null,
   "id": "04085a70",
   "metadata": {},
   "outputs": [],
   "source": [
    "df['end'] = df['start']+df['span']-1\n",
    "state_names = df.state.unique()\n",
    "\n",
    "lb = df.start.min()\n",
    "ub = df.end.max()\n",
    "num_rows = ub-lb+1\n",
    "chronicle_df_data = dict(zip(state_names, ['']*num_rows))\n",
    "chronicle_df = pd.DataFrame(chronicle_df_data, index=range(lb, ub+1), columns=state_names)"
   ]
  },
  {
   "cell_type": "code",
   "execution_count": null,
   "id": "02825d6c",
   "metadata": {},
   "outputs": [],
   "source": [
    "# Function fills column with: state,lord,rein_year_number, for example: 蔡,景公,4\n",
    "def fill_chronicle(r, cdf):\n",
    "    ary = []\n",
    "    for i in range(1, r.end-r.start+2):\n",
    "        ary.append(f'{r.state},{r.lord},{i}')\n",
    "    cdf.loc[r.start:r.end, r.state] = ary\n",
    "\n",
    "df.apply(fill_chronicle, axis=1, cdf=chronicle_df)"
   ]
  },
  {
   "cell_type": "code",
   "execution_count": null,
   "id": "bf6b833f",
   "metadata": {},
   "outputs": [],
   "source": [
    "# Save data to file db/csv/先秦諸侯王編年表.csv\n",
    "chronicle_df.loc[:, ['周', '魯', '齊', '田齊', '衛', '鄭', '陳', '蔡', '宋', '晉', '韓', '趙', '魏', '燕', '秦', '楚', '吳', '越']].to_csv('../../db/csv/先秦諸侯編年表.csv')"
   ]
  },
  {
   "cell_type": "code",
   "execution_count": null,
   "id": "5ea05caf",
   "metadata": {},
   "outputs": [],
   "source": [
    "dft = pd.read_csv('../../db/csv/先秦諸侯編年表.csv', index_col=0)\n",
    "dft.fillna(value='', inplace=True)"
   ]
  },
  {
   "cell_type": "code",
   "execution_count": null,
   "id": "3e9b1cb2",
   "metadata": {},
   "outputs": [],
   "source": [
    "dft.shape"
   ]
  }
 ],
 "metadata": {
  "kernelspec": {
   "display_name": "Python 3 (ipykernel)",
   "language": "python",
   "name": "python3"
  },
  "language_info": {
   "codemirror_mode": {
    "name": "ipython",
    "version": 3
   },
   "file_extension": ".py",
   "mimetype": "text/x-python",
   "name": "python",
   "nbconvert_exporter": "python",
   "pygments_lexer": "ipython3",
   "version": "3.11.5"
  }
 },
 "nbformat": 4,
 "nbformat_minor": 5
}
