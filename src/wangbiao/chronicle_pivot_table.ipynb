{
 "cells": [
  {
   "cell_type": "code",
   "execution_count": null,
   "id": "29b9182f",
   "metadata": {},
   "outputs": [],
   "source": [
    "import numpy as np\n",
    "import pandas as pd"
   ]
  },
  {
   "cell_type": "code",
   "execution_count": null,
   "id": "6dd612a2",
   "metadata": {},
   "outputs": [],
   "source": [
    "def to_int(value):\n",
    "    if value:\n",
    "        return int(value, 10)\n",
    "    else:\n",
    "        return 0\n",
    "\n",
    "# Convert dictionary for converting digit strings to integers.\n",
    "convert = dict(zip(['start', 'state', 'lord', 'span', 'notes'], [to_int, None, None, to_int, None]))\n",
    "\n",
    "# Read raw data and convert digit strings to int.\n",
    "df = pd.read_csv(\"../../db/csv/wangbiao.csv\", header=0, converters=convert)"
   ]
  },
  {
   "cell_type": "code",
   "execution_count": null,
   "id": "a2a91a60",
   "metadata": {},
   "outputs": [],
   "source": [
    "def show(x):\n",
    "    y = ' '.join(str(v) for v in x)\n",
    "    return int(y)\n",
    "\n",
    "# Classify by pivot table\n",
    "df1 = pd.pivot_table(df, index=['state', 'lord'], values=['start', 'span'], aggfunc=show)"
   ]
  },
  {
   "cell_type": "code",
   "execution_count": null,
   "id": "334bbead",
   "metadata": {},
   "outputs": [],
   "source": [
    "df1['end'] = df1['start']+df1['span']-1"
   ]
  },
  {
   "cell_type": "code",
   "execution_count": null,
   "id": "aeeaf0b3",
   "metadata": {},
   "outputs": [],
   "source": [
    "state_names = df1.index.unique(level=0)\n",
    "\n",
    "lb = df1.start.min()\n",
    "ub = df1.end.max()\n",
    "num_rows = ub-lb+1\n",
    "\n",
    "chronicle_df_data = dict(zip(state_names, ['']*num_rows))\n",
    "chronicle_df = pd.DataFrame(chronicle_df_data, index=range(lb, ub+1), columns=state_names)"
   ]
  },
  {
   "cell_type": "code",
   "execution_count": null,
   "id": "12ae8104",
   "metadata": {},
   "outputs": [],
   "source": [
    "def gen_chronicle_data(r):\n",
    "    return r.start, r.end, r.name\n",
    "\n",
    "chronicle_data = []\n",
    "for state in state_names:\n",
    "    chronicle_data.append(df1.loc[state:state].apply(gen_chronicle_data, axis=1))"
   ]
  },
  {
   "cell_type": "code",
   "execution_count": null,
   "id": "eb7fd898",
   "metadata": {},
   "outputs": [],
   "source": [
    "# Function fills column with: state,lord,rein_year_number, for example: 蔡,景公,4\n",
    "for m in chronicle_data:\n",
    "    print(m.index)\n",
    "    c = m.values\n",
    "    for j in c:\n",
    "        ary = []\n",
    "        for i in range(1, j[1]-j[0]+2):\n",
    "            ary.append(f'{j[2][0]},{j[2][1]},{i}')\n",
    "        chronicle_df.loc[j[0]:j[1], j[2][0]] = ary"
   ]
  },
  {
   "cell_type": "code",
   "execution_count": null,
   "id": "46ec15e8",
   "metadata": {},
   "outputs": [],
   "source": [
    "# Save data to file db/csv/先秦諸侯王編年表.csv\n",
    "# No need to save as we already used chronicle_no_pivot_table.ipynb to save the data \n",
    "# chronicle_df.loc[:, ['周', '魯', '齊', '田齊', '衛', '鄭', '陳', '蔡', '宋', '晉', '韓', '趙', '魏', '燕', '秦', '楚', '吳', '越']].to_csv('../../db/csv/先秦諸侯編年表.csv')"
   ]
  }
 ],
 "metadata": {
  "kernelspec": {
   "display_name": "Python 3 (ipykernel)",
   "language": "python",
   "name": "python3"
  },
  "language_info": {
   "codemirror_mode": {
    "name": "ipython",
    "version": 3
   },
   "file_extension": ".py",
   "mimetype": "text/x-python",
   "name": "python",
   "nbconvert_exporter": "python",
   "pygments_lexer": "ipython3",
   "version": "3.11.5"
  }
 },
 "nbformat": 4,
 "nbformat_minor": 5
}
